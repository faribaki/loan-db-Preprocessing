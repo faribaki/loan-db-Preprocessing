{
 "cells": [
  {
   "cell_type": "code",
   "execution_count": 3,
   "id": "3f7cff1b-c589-4d77-b3ac-3b336c66acd3",
   "metadata": {},
   "outputs": [],
   "source": [
    "import os\n",
    "import numpy as np\n",
    "import pandas as pd\n",
    "from matplotlib import pyplot as plt\n",
    "import seaborn as sns\n",
    "#import warnings\n",
    "#warnings.filterwarnings(\"ignore\") "
   ]
  },
  {
   "cell_type": "code",
   "execution_count": 4,
   "id": "23e54587-a86f-446a-8546-0eaccc0974f1",
   "metadata": {},
   "outputs": [],
   "source": [
    "df = pd.read_csv('loans.csv', index_col = 'client_id')"
   ]
  },
  {
   "cell_type": "code",
   "execution_count": 5,
   "id": "4a7d40ec-0eff-43c7-bf74-9ee12b0c10c1",
   "metadata": {},
   "outputs": [
    {
     "name": "stdout",
     "output_type": "stream",
     "text": [
      "Index(['loan_type', 'loan_amount', 'repaid', 'loan_id', 'loan_start',\n",
      "       'loan_end', 'rate'],\n",
      "      dtype='object')\n"
     ]
    }
   ],
   "source": [
    "# Having general idea about the size of dataframe; either len or shape\n",
    "df.shape\n",
    "print(df.columns)"
   ]
  },
  {
   "cell_type": "code",
   "execution_count": 6,
   "id": "2e30d8e5-d77e-4678-abf3-1de31f034b36",
   "metadata": {},
   "outputs": [
    {
     "name": "stdout",
     "output_type": "stream",
     "text": [
      "<class 'pandas.core.frame.DataFrame'>\n",
      "Index: 443 entries, 46109 to 26945\n",
      "Data columns (total 7 columns):\n",
      " #   Column       Non-Null Count  Dtype  \n",
      "---  ------       --------------  -----  \n",
      " 0   loan_type    443 non-null    object \n",
      " 1   loan_amount  443 non-null    int64  \n",
      " 2   repaid       443 non-null    int64  \n",
      " 3   loan_id      443 non-null    int64  \n",
      " 4   loan_start   443 non-null    object \n",
      " 5   loan_end     443 non-null    object \n",
      " 6   rate         443 non-null    float64\n",
      "dtypes: float64(1), int64(3), object(3)\n",
      "memory usage: 27.7+ KB\n",
      "Index(['loan_type', 'loan_amount', 'repaid', 'loan_id', 'loan_start',\n",
      "       'loan_end', 'rate'],\n",
      "      dtype='object')\n"
     ]
    }
   ],
   "source": [
    "# Exploring more on columns name/type in the dataframe\n",
    "df.info()\n",
    "print(df.columns)"
   ]
  },
  {
   "cell_type": "code",
   "execution_count": 7,
   "id": "970280e1-5116-46bb-a841-f60cf7671a52",
   "metadata": {},
   "outputs": [],
   "source": [
    "# 1st-task: though the loan-id and repaid-id should first converted from integer to objects, \n",
    "#as we are not working in this example with them, we drop them together from dataframe:\n",
    "\n",
    "df=df.drop(columns=['loan_id', 'repaid'])\n"
   ]
  },
  {
   "cell_type": "code",
   "execution_count": 8,
   "id": "fd6f8f7e-467c-4be9-8413-50c1b81c959f",
   "metadata": {},
   "outputs": [
    {
     "name": "stdout",
     "output_type": "stream",
     "text": [
      "Index(['loan_type', 'loan_amount', 'loan_start', 'loan_end', 'rate'], dtype='object')\n"
     ]
    }
   ],
   "source": [
    "# check our columns name\n",
    "print(df.columns)"
   ]
  },
  {
   "cell_type": "code",
   "execution_count": 9,
   "id": "adc75f2f-aba1-4be1-b982-4cfb370ab1f1",
   "metadata": {},
   "outputs": [
    {
     "data": {
      "text/plain": [
       "loan_type      0\n",
       "loan_amount    0\n",
       "loan_start     0\n",
       "loan_end       0\n",
       "rate           0\n",
       "dtype: int64"
      ]
     },
     "execution_count": 9,
     "metadata": {},
     "output_type": "execute_result"
    }
   ],
   "source": [
    "#(Preprocessing):First step: Checking Missing data(No missing data handling needed here)\n",
    "df.isnull().sum()"
   ]
  },
  {
   "cell_type": "code",
   "execution_count": 10,
   "id": "f8002cc9-9e9b-4374-80af-53746081c5e0",
   "metadata": {},
   "outputs": [
    {
     "name": "stdout",
     "output_type": "stream",
     "text": [
      "          loan_type  loan_amount  loan_start    loan_end  rate\n",
      "client_id                                                     \n",
      "46109          home        13672  2002-04-16  2003-12-20  2.15\n",
      "46109        credit         9794  2003-10-21  2005-07-17  1.25\n",
      "46109          home        12734  2006-02-01  2007-07-05  0.68\n",
      "46109          cash        12518  2010-12-08  2013-05-05  1.24\n",
      "46109        credit        14049  2010-07-07  2012-05-21  3.13\n",
      "46109          home         6935  2006-09-17  2008-11-26  1.94\n",
      "46109          cash         6177  2007-03-12  2009-04-26  9.48\n",
      "46109          home        12656  2006-05-26  2007-10-15  4.14\n",
      "46109          home        11062  2012-09-12  2014-03-14  5.48\n",
      "46109         other         4050  2003-12-06  2005-08-19  4.26\n",
      "show categorical values: ['home' 'credit' 'cash' 'other']\n"
     ]
    }
   ],
   "source": [
    "# 2nd-Task: a-Check with columns is categorical data(loan_type is categorical data)\n",
    "print(df.head(10))\n",
    "print(\"show categorical values:\" , df['loan_type'].unique())"
   ]
  },
  {
   "cell_type": "code",
   "execution_count": 11,
   "id": "40d1badd-7f94-41c1-ade3-d8c1647eeee6",
   "metadata": {},
   "outputs": [
    {
     "name": "stdout",
     "output_type": "stream",
     "text": [
      "client_id\n",
      "46109      home\n",
      "46109    credit\n",
      "46109      home\n",
      "46109      cash\n",
      "46109    credit\n",
      "          ...  \n",
      "26945     other\n",
      "26945    credit\n",
      "26945     other\n",
      "26945      home\n",
      "26945      home\n",
      "Name: loan_type, Length: 443, dtype: object\n",
      "     loan_amount  loan_start    loan_end  rate  cash  credit  home  other\n",
      "0          13672  2002-04-16  2003-12-20  2.15   0.0     0.0   1.0    0.0\n",
      "1           9794  2003-10-21  2005-07-17  1.25   0.0     1.0   0.0    0.0\n",
      "2          12734  2006-02-01  2007-07-05  0.68   0.0     0.0   1.0    0.0\n",
      "3          12518  2010-12-08  2013-05-05  1.24   1.0     0.0   0.0    0.0\n",
      "4          14049  2010-07-07  2012-05-21  3.13   0.0     1.0   0.0    0.0\n",
      "..           ...         ...         ...   ...   ...     ...   ...    ...\n",
      "438        12963  2001-11-26  2004-06-11  2.46   0.0     0.0   0.0    1.0\n",
      "439         1728  2004-01-27  2005-06-21  5.27   0.0     1.0   0.0    0.0\n",
      "440         9329  2001-12-17  2004-07-22  5.65   0.0     0.0   0.0    1.0\n",
      "441         4197  2003-10-16  2005-07-10  4.50   0.0     0.0   1.0    0.0\n",
      "442         3643  2010-03-24  2011-12-22  0.13   0.0     0.0   1.0    0.0\n",
      "\n",
      "[443 rows x 8 columns]\n"
     ]
    }
   ],
   "source": [
    "\n",
    "df['loan_type'] = df['loan_type'].astype(str)  # Ensure it's a string column\n",
    "print(df['loan_type'])\n",
    "\n",
    "#b-One Hot Encoding on loan_type:\n",
    "import pandas as pd\n",
    "from sklearn.preprocessing import OneHotEncoder\n",
    "\n",
    "encoder = OneHotEncoder(sparse_output=False)  # sparse_output=False gives a dense matrix (array)\n",
    "\n",
    "# Fit and transform the 'loan_type' column to get one-hot encoded values\n",
    "encoded_loan_type = encoder.fit_transform(df[['loan_type']])\n",
    "\n",
    "# Create a DataFrame with the one-hot encoded data\n",
    "encoded_df = pd.DataFrame(encoded_loan_type, columns=encoder.categories_[0])\n",
    "\n",
    "# Reset the index of both DataFrames (if needed)\n",
    "df = df.reset_index(drop=True)  # Reset index to avoid reindexing issues\n",
    "encoded_df = encoded_df.reset_index(drop=True)  # Ensure encoded_df has the same index\n",
    "\n",
    "# Concatenate the encoded columns with the original DataFrame\n",
    "# Here, we'll concatenate the new columns but keep 'loan_type' for now\n",
    "df = pd.concat([df, encoded_df], axis=1)\n",
    "\n",
    "# Drop the original 'loan_type' column if you no longer need it\n",
    "df = df.drop(columns=['loan_type'])\n",
    "\n",
    "# Display the resulting DataFrame\n",
    "print(df)"
   ]
  },
  {
   "cell_type": "code",
   "execution_count": 12,
   "id": "ba49c835-b86e-456c-a13f-72be94bf93f5",
   "metadata": {},
   "outputs": [],
   "source": [
    "#converting data string to date format\n",
    "df['loan_start'] = pd.to_datetime(df['loan_start'], format = '%Y-%m-%d')\n",
    "df['loan_end'] = pd.to_datetime(df['loan_end'], format = '%Y-%m-%d')\n"
   ]
  },
  {
   "cell_type": "code",
   "execution_count": 13,
   "id": "d381fa71-7f83-4173-89ee-7b31d29d4b96",
   "metadata": {},
   "outputs": [
    {
     "name": "stdout",
     "output_type": "stream",
     "text": [
      "0     613 days\n",
      "1     635 days\n",
      "2     519 days\n",
      "3     879 days\n",
      "4     684 days\n",
      "        ...   \n",
      "438   928 days\n",
      "439   511 days\n",
      "440   948 days\n",
      "441   633 days\n",
      "442   638 days\n",
      "Name: loan_duration, Length: 443, dtype: timedelta64[ns]\n",
      "     loan_amount loan_start   loan_end  rate  cash  credit  home  other  \\\n",
      "0          13672 2002-04-16 2003-12-20  2.15   0.0     0.0   1.0    0.0   \n",
      "1           9794 2003-10-21 2005-07-17  1.25   0.0     1.0   0.0    0.0   \n",
      "2          12734 2006-02-01 2007-07-05  0.68   0.0     0.0   1.0    0.0   \n",
      "3          12518 2010-12-08 2013-05-05  1.24   1.0     0.0   0.0    0.0   \n",
      "4          14049 2010-07-07 2012-05-21  3.13   0.0     1.0   0.0    0.0   \n",
      "..           ...        ...        ...   ...   ...     ...   ...    ...   \n",
      "438        12963 2001-11-26 2004-06-11  2.46   0.0     0.0   0.0    1.0   \n",
      "439         1728 2004-01-27 2005-06-21  5.27   0.0     1.0   0.0    0.0   \n",
      "440         9329 2001-12-17 2004-07-22  5.65   0.0     0.0   0.0    1.0   \n",
      "441         4197 2003-10-16 2005-07-10  4.50   0.0     0.0   1.0    0.0   \n",
      "442         3643 2010-03-24 2011-12-22  0.13   0.0     0.0   1.0    0.0   \n",
      "\n",
      "    loan_duration  start_day  end_day  start_month  end_month  start_year  \\\n",
      "0        613 days         16       20            4         12        2002   \n",
      "1        635 days         21       17           10          7        2003   \n",
      "2        519 days          1        5            2          7        2006   \n",
      "3        879 days          8        5           12          5        2010   \n",
      "4        684 days          7       21            7          5        2010   \n",
      "..            ...        ...      ...          ...        ...         ...   \n",
      "438      928 days         26       11           11          6        2001   \n",
      "439      511 days         27       21            1          6        2004   \n",
      "440      948 days         17       22           12          7        2001   \n",
      "441      633 days         16       10           10          7        2003   \n",
      "442      638 days         24       22            3         12        2010   \n",
      "\n",
      "     end_year  \n",
      "0        2003  \n",
      "1        2005  \n",
      "2        2007  \n",
      "3        2013  \n",
      "4        2012  \n",
      "..        ...  \n",
      "438      2004  \n",
      "439      2005  \n",
      "440      2004  \n",
      "441      2005  \n",
      "442      2011  \n",
      "\n",
      "[443 rows x 15 columns]\n"
     ]
    }
   ],
   "source": [
    "# 3rd Task: Extracting more data out of dates\n",
    "# a)Calculate the duration of the loan\n",
    "\n",
    "df['loan_duration'] = (df['loan_end'] - df['loan_start'])  # This will give you the difference in days\n",
    "print(df.loan_duration)\n",
    "\n",
    "# b) Extract the day from the 'loan_start' and 'loan_end' column and store them in a new 'start_day'and 'end_day' columns\n",
    "df['start_day'] = df['loan_start'].dt.day\n",
    "df['end_day'] = df['loan_end'].dt.day\n",
    "\n",
    "# c) Extract the month from the 'loan_start' and 'loan_end' column and store them in a new 'start_month'and 'end_month' columns\n",
    "df['start_month'] = df['loan_start'].dt.month\n",
    "df['end_month'] = df['loan_end'].dt.month\n",
    "\n",
    "# c) Extract the year from the 'loan_start' and 'loan_end' column and store them in a new 'start_year'and 'end_year' columns\n",
    "df['start_year'] = df['loan_start'].dt.year\n",
    "df['end_year'] = df['loan_end'].dt.year\n",
    "\n",
    "print(df)"
   ]
  },
  {
   "cell_type": "code",
   "execution_count": 229,
   "id": "30b4e8a2-436d-43b7-b7d0-e513f7b049a0",
   "metadata": {},
   "outputs": [
    {
     "name": "stdout",
     "output_type": "stream",
     "text": [
      "0      False\n",
      "1      False\n",
      "2      False\n",
      "3      False\n",
      "4      False\n",
      "       ...  \n",
      "438    False\n",
      "439    False\n",
      "440    False\n",
      "441    False\n",
      "442    False\n",
      "Name: is_outlier, Length: 443, dtype: bool\n",
      "Empty DataFrame\n",
      "Columns: [loan_amount, loan_start, loan_end, rate, cash, credit, home, other, zscore, is_outlier]\n",
      "Index: []\n"
     ]
    },
    {
     "data": {
      "image/png": "[encoded data removed]",
      "text/plain": [
       "<Figure size 640x480 with 1 Axes>"
      ]
     },
     "metadata": {},
     "output_type": "display_data"
    }
   ],
   "source": [
    "#4th Task: ouliers detection with z-score method in loan_amount\n",
    "import pandas as pd\n",
    "from scipy.stats import zscore\n",
    "\n",
    "df['zscore'] = zscore(df['loan_amount'])\n",
    "df['is_outlier'] = (df['zscore'] > 3) | (df['zscore'] <-3)\n",
    "print(df.is_outlier)\n",
    "# Filter and show only the rows where 'is_outlier' is True\n",
    "outliers = df.loc[df['is_outlier'] == True]\n",
    "print(outliers)\n",
    "\n",
    "#that means there is no outliers in loan_amount.\n",
    "# Display the outliers of loan_amount with box plot\n",
    "\n",
    "import matplotlib.pyplot as plt\n",
    "import seaborn as sns\n",
    "\n",
    "# Create a boxplot to visualise outliers\n",
    "sns.boxplot(x=df['loan_amount'])\n",
    "plt.show()"
   ]
  },
  {
   "cell_type": "code",
   "execution_count": 37,
   "id": "d2340c7e-6758-4732-85b0-1f7c7f77943b",
   "metadata": {},
   "outputs": [
    {
     "name": "stdout",
     "output_type": "stream",
     "text": [
      "Q1 (25th percentile): 1.22\n",
      "Q3 (75th percentile): 4.75\n",
      "IQR (Interquartile Range): 3.5300000000000002\n",
      "Lower Bound: -4.075\n",
      "Upper Bound: 10.045\n",
      "Empty DataFrame\n",
      "Columns: [loan_amount, loan_start, loan_end, rate, cash, credit, home, other, loan_duration, start_day, end_day, start_month, end_month, start_year, end_year, SQRT_RATE, sqrt_rate, Log Rate]\n",
      "Index: []\n"
     ]
    },
    {
     "data": {
      "image/png": "[encoded data removed]",
      "text/plain": [
       "<Figure size 640x480 with 1 Axes>"
      ]
     },
     "metadata": {},
     "output_type": "display_data"
    },
    {
     "data": {
      "image/png": "[encoded data removed]",
      "text/plain": [
       "<Figure size 640x480 with 1 Axes>"
      ]
     },
     "metadata": {},
     "output_type": "display_data"
    }
   ],
   "source": [
    "# 5th Task: ouliers detection with box plot or IQR method for rate\n",
    "\n",
    "Q1 = df['rate'].quantile(0.25)\n",
    "Q3 = df['rate'].quantile(0.75)\n",
    "\n",
    "# Calculate the IQR (Interquartile Range)\n",
    "IQR = Q3 - Q1\n",
    "\n",
    "# Debug: Print Q1, Q3, and IQR\n",
    "print(\"Q1 (25th percentile):\", Q1)\n",
    "print(\"Q3 (75th percentile):\", Q3)\n",
    "print(\"IQR (Interquartile Range):\", IQR)\n",
    "\n",
    "# Define the lower and upper bounds for outliers\n",
    "lower_bound = Q1 - 1.5 * IQR\n",
    "upper_bound = Q3 + 1.5 * IQR\n",
    "\n",
    "# Debug: Print the bounds\n",
    "print(\"Lower Bound:\", lower_bound)\n",
    "print(\"Upper Bound:\", upper_bound)\n",
    "\n",
    "\n",
    "# Identify the outliers by checking values outside the bounds\n",
    "outliers = df[(df['rate'] < lower_bound) | (df['rate'] > upper_bound)]\n",
    "# Display the outliers\n",
    "print(outliers)\n",
    "\n",
    "\n",
    "#debug the outliers by boxplot\n",
    "import matplotlib.pyplot as plt\n",
    "import seaborn as sns\n",
    "\n",
    "# Create a boxplot to visualise outliers\n",
    "sns.boxplot(x=df['rate'])\n",
    "plt.show()\n",
    "sns.histplot(df.rate)\n",
    "plt.axvline(upper_bound, color='r')\n",
    "plt.axvline(lower_bound, color ='r')\n",
    "plt.axvline(Q1, color='g')\n",
    "plt.axvline(Q3, color='g')\n",
    "plt.show()\n"
   ]
  },
  {
   "cell_type": "code",
   "execution_count": 15,
   "id": "48c71191-aef3-419d-a0ca-efc56baa0bc4",
   "metadata": {},
   "outputs": [
    {
     "name": "stdout",
     "output_type": "stream",
     "text": [
      "     loan_amount loan_start   loan_end    rate  cash  credit  home  other  \\\n",
      "41        10.045 2005-11-10 2008-03-16  10.045   0.0     1.0   0.0    0.0   \n",
      "195       10.045 2003-02-02 2005-05-08  10.045   0.0     0.0   0.0    1.0   \n",
      "421       10.045 2009-03-14 2011-03-21  10.045   0.0     0.0   1.0    0.0   \n",
      "\n",
      "    loan_duration  start_day  end_day  start_month  end_month  start_year  \\\n",
      "41       857 days         10       16           11          3        2005   \n",
      "195      826 days          2        8            2          5        2003   \n",
      "421      737 days         14       21            3          3        2009   \n",
      "\n",
      "     end_year  \n",
      "41       2008  \n",
      "195      2005  \n",
      "421      2011  \n"
     ]
    },
    {
     "name": "stderr",
     "output_type": "stream",
     "text": [
      "/var/folders/pn/rwgq09r15md5zh77f6xvd5ch0000gn/T/ipykernel_12780/822620485.py:11: FutureWarning: Setting an item of incompatible dtype is deprecated and will raise an error in a future version of pandas. Value '10.045' has dtype incompatible with int64, please explicitly cast to a compatible dtype first.\n",
      "  df.at[index, column] = upper_bound\n"
     ]
    }
   ],
   "source": [
    "\n",
    "# 6th Task: ouliers replacement with box plot or IQR method for rate\n",
    "# Save a copy of the original 'rate' column to check before and after the modification\n",
    "original_rate = df['rate'].copy()\n",
    "# Replace outliers with the upper or lower bound for the 'rate' column\n",
    "for column in df.columns:\n",
    "    if df[column].dtype in ['float64', 'int64']:  # Only apply to numeric columns\n",
    "        for index, row in df.iterrows():\n",
    "            if row[column] < lower_bound:\n",
    "                df.at[index, column] = lower_bound\n",
    "            elif row[column] > upper_bound:\n",
    "                df.at[index, column] = upper_bound\n",
    "outliers_replaced = (original_rate < lower_bound) | (original_rate > upper_bound)\n",
    "num_replacements = outliers_replaced.sum()\n",
    "\n",
    "# Display the rows where outliers were replaced\n",
    "replaced_rows = df[outliers_replaced]\n",
    "print(replaced_rows)"
   ]
  },
  {
   "cell_type": "code",
   "execution_count": 34,
   "id": "cc5ece97-f9e3-4810-9347-833c9e579dd9",
   "metadata": {},
   "outputs": [
    {
     "name": "stdout",
     "output_type": "stream",
     "text": [
      "Skewness 0.805859934531388\n",
      "Skewness of the SQRT 0.02309226974463578\n",
      "\n",
      "Kurtosis 0.05504910825429832\n",
      "Kurtosis of the SQRT -0.6950723674356434\n",
      "Skewness 0.805859934531388\n",
      "Skewness of the SQRT 0.02309226974463578\n",
      "Skewnss of the LOG transformed -1.601890661251967\n",
      "\n",
      "Kurtosis 0.05504910825429832\n",
      "Kurtosis of the SQRT -0.6950723674356434\n",
      "Kurtosis of the LOG transformed 4.173447905626535\n"
     ]
    },
    {
     "data": {
      "image/png": "[encoded data removed]",
      "text/plain": [
       "<Figure size 1500x500 with 3 Axes>"
      ]
     },
     "metadata": {},
     "output_type": "display_data"
    },
    {
     "data": {
      "text/html": [
       "<div>\n",
       "<style scoped>\n",
       "    .dataframe tbody tr th:only-of-type {\n",
       "        vertical-align: middle;\n",
       "    }\n",
       "\n",
       "    .dataframe tbody tr th {\n",
       "        vertical-align: top;\n",
       "    }\n",
       "\n",
       "    .dataframe thead th {\n",
       "        text-align: right;\n",
       "    }\n",
       "</style>\n",
       "<table border=\"1\" class=\"dataframe\">\n",
       "  <thead>\n",
       "    <tr style=\"text-align: right;\">\n",
       "      <th></th>\n",
       "      <th>loan_amount</th>\n",
       "      <th>loan_start</th>\n",
       "      <th>loan_end</th>\n",
       "      <th>rate</th>\n",
       "      <th>cash</th>\n",
       "      <th>credit</th>\n",
       "      <th>home</th>\n",
       "      <th>other</th>\n",
       "      <th>loan_duration</th>\n",
       "      <th>start_day</th>\n",
       "      <th>end_day</th>\n",
       "      <th>start_month</th>\n",
       "      <th>end_month</th>\n",
       "      <th>start_year</th>\n",
       "      <th>end_year</th>\n",
       "      <th>SQRT_RATE</th>\n",
       "      <th>sqrt_rate</th>\n",
       "      <th>Log Rate</th>\n",
       "    </tr>\n",
       "  </thead>\n",
       "  <tbody>\n",
       "    <tr>\n",
       "      <th>0</th>\n",
       "      <td>10.045</td>\n",
       "      <td>2002-04-16</td>\n",
       "      <td>2003-12-20</td>\n",
       "      <td>2.15</td>\n",
       "      <td>0.0</td>\n",
       "      <td>0.0</td>\n",
       "      <td>1.0</td>\n",
       "      <td>0.0</td>\n",
       "      <td>613 days</td>\n",
       "      <td>16</td>\n",
       "      <td>20</td>\n",
       "      <td>4</td>\n",
       "      <td>12</td>\n",
       "      <td>2002</td>\n",
       "      <td>2003</td>\n",
       "      <td>1.466288</td>\n",
       "      <td>1.466288</td>\n",
       "      <td>0.765468</td>\n",
       "    </tr>\n",
       "    <tr>\n",
       "      <th>1</th>\n",
       "      <td>10.045</td>\n",
       "      <td>2003-10-21</td>\n",
       "      <td>2005-07-17</td>\n",
       "      <td>1.25</td>\n",
       "      <td>0.0</td>\n",
       "      <td>1.0</td>\n",
       "      <td>0.0</td>\n",
       "      <td>0.0</td>\n",
       "      <td>635 days</td>\n",
       "      <td>21</td>\n",
       "      <td>17</td>\n",
       "      <td>10</td>\n",
       "      <td>7</td>\n",
       "      <td>2003</td>\n",
       "      <td>2005</td>\n",
       "      <td>1.118034</td>\n",
       "      <td>1.118034</td>\n",
       "      <td>0.223144</td>\n",
       "    </tr>\n",
       "    <tr>\n",
       "      <th>2</th>\n",
       "      <td>10.045</td>\n",
       "      <td>2006-02-01</td>\n",
       "      <td>2007-07-05</td>\n",
       "      <td>0.68</td>\n",
       "      <td>0.0</td>\n",
       "      <td>0.0</td>\n",
       "      <td>1.0</td>\n",
       "      <td>0.0</td>\n",
       "      <td>519 days</td>\n",
       "      <td>1</td>\n",
       "      <td>5</td>\n",
       "      <td>2</td>\n",
       "      <td>7</td>\n",
       "      <td>2006</td>\n",
       "      <td>2007</td>\n",
       "      <td>0.824621</td>\n",
       "      <td>0.824621</td>\n",
       "      <td>-0.385662</td>\n",
       "    </tr>\n",
       "    <tr>\n",
       "      <th>3</th>\n",
       "      <td>10.045</td>\n",
       "      <td>2010-12-08</td>\n",
       "      <td>2013-05-05</td>\n",
       "      <td>1.24</td>\n",
       "      <td>1.0</td>\n",
       "      <td>0.0</td>\n",
       "      <td>0.0</td>\n",
       "      <td>0.0</td>\n",
       "      <td>879 days</td>\n",
       "      <td>8</td>\n",
       "      <td>5</td>\n",
       "      <td>12</td>\n",
       "      <td>5</td>\n",
       "      <td>2010</td>\n",
       "      <td>2013</td>\n",
       "      <td>1.113553</td>\n",
       "      <td>1.113553</td>\n",
       "      <td>0.215111</td>\n",
       "    </tr>\n",
       "    <tr>\n",
       "      <th>4</th>\n",
       "      <td>10.045</td>\n",
       "      <td>2010-07-07</td>\n",
       "      <td>2012-05-21</td>\n",
       "      <td>3.13</td>\n",
       "      <td>0.0</td>\n",
       "      <td>1.0</td>\n",
       "      <td>0.0</td>\n",
       "      <td>0.0</td>\n",
       "      <td>684 days</td>\n",
       "      <td>7</td>\n",
       "      <td>21</td>\n",
       "      <td>7</td>\n",
       "      <td>5</td>\n",
       "      <td>2010</td>\n",
       "      <td>2012</td>\n",
       "      <td>1.769181</td>\n",
       "      <td>1.769181</td>\n",
       "      <td>1.141033</td>\n",
       "    </tr>\n",
       "  </tbody>\n",
       "</table>\n",
       "</div>"
      ],
      "text/plain": [
       "   loan_amount loan_start   loan_end  rate  cash  credit  home  other  \\\n",
       "0       10.045 2002-04-16 2003-12-20  2.15   0.0     0.0   1.0    0.0   \n",
       "1       10.045 2003-10-21 2005-07-17  1.25   0.0     1.0   0.0    0.0   \n",
       "2       10.045 2006-02-01 2007-07-05  0.68   0.0     0.0   1.0    0.0   \n",
       "3       10.045 2010-12-08 2013-05-05  1.24   1.0     0.0   0.0    0.0   \n",
       "4       10.045 2010-07-07 2012-05-21  3.13   0.0     1.0   0.0    0.0   \n",
       "\n",
       "  loan_duration  start_day  end_day  start_month  end_month  start_year  \\\n",
       "0      613 days         16       20            4         12        2002   \n",
       "1      635 days         21       17           10          7        2003   \n",
       "2      519 days          1        5            2          7        2006   \n",
       "3      879 days          8        5           12          5        2010   \n",
       "4      684 days          7       21            7          5        2010   \n",
       "\n",
       "   end_year  SQRT_RATE  sqrt_rate  Log Rate  \n",
       "0      2003   1.466288   1.466288  0.765468  \n",
       "1      2005   1.118034   1.118034  0.223144  \n",
       "2      2007   0.824621   0.824621 -0.385662  \n",
       "3      2013   1.113553   1.113553  0.215111  \n",
       "4      2012   1.769181   1.769181  1.141033  "
      ]
     },
     "execution_count": 34,
     "metadata": {},
     "output_type": "execute_result"
    }
   ],
   "source": [
    "# Normalizing the distribution of rate by SQRT and Log of rate; which one is better\n",
    "# considering SQRT looks more like normal distribution, we use that to normalise dat\n",
    "df['sqrt_rate'] = np.sqrt(df['rate'])\n",
    "print(\"Skewness {}\".format(df.rate.skew()))\n",
    "print('Skewness of the SQRT {}'.format(df.SQRT_RATE.skew()))\n",
    "print('')\n",
    "print(\"Kurtosis {}\".format(df.rate.kurt()))\n",
    "print(\"Kurtosis of the SQRT {}\".format(df.SQRT_RATE.kurt()))\n",
    "df['Log Rate'] = np.log(df['rate'])\n",
    "print(\"Skewness {}\".format(df.rate.skew()))\n",
    "print('Skewness of the SQRT {}'.format(df.SQRT_RATE.skew()))\n",
    "print(\"Skewnss of the LOG transformed {}\".format(df['Log Rate'].skew()))\n",
    "print('')\n",
    "print(\"Kurtosis {}\".format(df.rate.kurt()))\n",
    "print(\"Kurtosis of the SQRT {}\".format(df.SQRT_RATE.kurt()))\n",
    "print(\"Kurtosis of the LOG transformed {}\".format(df['Log Rate'].kurt()))\n",
    "df.head()\n",
    "\n",
    "import seaborn as sns\n",
    "import matplotlib.pyplot as plt\n",
    "\n",
    "fig, axes = plt.subplots(1,3, figsize=(15,5))\n",
    "sns.histplot(df['rate'], kde=True, color='blue', bins=20, ax=axes[0])\n",
    "sns.histplot(df['sqrt_rate'], kde=True, color='blue', bins=20 , ax=axes[1])\n",
    "sns.histplot(df['Log Rate'], kde=True, color='blue', bins=20 , ax=axes[2])\n",
    "\n",
    "plt.show()\n",
    "\n",
    "df.head()"
   ]
  },
  {
   "cell_type": "code",
   "execution_count": null,
   "id": "4620ab93-e137-4527-89bc-f058761386bd",
   "metadata": {},
   "outputs": [],
   "source": [
    "\n"
   ]
  }
 ],
 "metadata": {
  "kernelspec": {
   "display_name": "Python 3 (ipykernel)",
   "language": "python",
   "name": "python3"
  },
  "language_info": {
   "codemirror_mode": {
    "name": "ipython",
    "version": 3
   },
   "file_extension": ".py",
   "mimetype": "text/x-python",
   "name": "python",
   "nbconvert_exporter": "python",
   "pygments_lexer": "ipython3",
   "version": "3.12.7"
  }
 },
 "nbformat": 4,
 "nbformat_minor": 5
}
